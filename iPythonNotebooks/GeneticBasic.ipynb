{
 "cells": [
  {
   "cell_type": "markdown",
   "metadata": {},
   "source": [
    "# Basic Genetic Alorithm Example\n",
    "This will randomly mutate a string until it matches a desired output value."
   ]
  },
  {
   "cell_type": "code",
   "execution_count": 433,
   "metadata": {
    "collapsed": true
   },
   "outputs": [],
   "source": [
    "import pandas as pd\n",
    "import numpy as np\n",
    "import string\n",
    "import random"
   ]
  },
  {
   "cell_type": "code",
   "execution_count": 485,
   "metadata": {
    "collapsed": false
   },
   "outputs": [
    {
     "name": "stdout",
     "output_type": "stream",
     "text": [
      "What string do you want to match? Cat's like catnip!:)\n"
     ]
    }
   ],
   "source": [
    "targetString = raw_input(\"What string do you want to match? \")"
   ]
  },
  {
   "cell_type": "code",
   "execution_count": 486,
   "metadata": {
    "collapsed": false
   },
   "outputs": [],
   "source": [
    "if targetString == \"\":\n",
    "    targetString = \"Input not supported in this context\""
   ]
  },
  {
   "cell_type": "code",
   "execution_count": 487,
   "metadata": {
    "collapsed": false
   },
   "outputs": [],
   "source": [
    "possibleCharacters = string.ascii_lowercase + string.ascii_uppercase + \" \" + string.punctuation\n",
    "mutationProb = 0.05\n",
    "populationSize = 100"
   ]
  },
  {
   "cell_type": "code",
   "execution_count": 488,
   "metadata": {
    "collapsed": false
   },
   "outputs": [],
   "source": [
    "def mutate(pStart, mProb = mutationProb):\n",
    "    # function to return a mutated citizen\n",
    "    return [(random.choice(possibleCharacters) \n",
    "                if random.random() < mutationProb else pStart[x]) for x in xrange(len(pStart))]\n",
    "    \n",
    "def mate(parent1, parent2, nChildren = 10):\n",
    "    # this function will spawn n children and then kill off the ones with lower fitness\n",
    "    # it will repeat until it can sort the children.  This means that at least one character must match\n",
    "    j = 0\n",
    "    while j<5000:\n",
    "        children = []\n",
    "        for i in range(nChildren):\n",
    "            children.append(''.join(\n",
    "                [(parent1[x] if random.random() > 0.5 else parent2[x]) \n",
    "                 for x in xrange(len(targetString))]))\n",
    "        childrenScores = [(fitness(children[x])) for x in xrange(len(children))]\n",
    "        j+=1\n",
    "        childrenScores.sort()\n",
    "        if childrenScores[0][0] >= 1:\n",
    "            break\n",
    "    return childrenScores[1]\n",
    "\n",
    "def randomPerson(target = targetString, charOptions = possibleCharacters):\n",
    "    return [random.choice(charOptions) for x in target]\n",
    "\n",
    "def fitness(person, target = targetString):\n",
    "    return sum([(1 if person[x] == target[x] else 0) for x in xrange(len(target))]), person"
   ]
  },
  {
   "cell_type": "code",
   "execution_count": 489,
   "metadata": {
    "collapsed": false
   },
   "outputs": [
    {
     "name": "stdout",
     "output_type": "stream",
     "text": [
      "No funny stuff.  'Cat's like catnip!:)' is the starting string\n"
     ]
    }
   ],
   "source": [
    "# randomStart = randomPop()\n",
    "print \"No funny stuff.  '%s' is the starting string\" % ''.join(targetString)"
   ]
  },
  {
   "cell_type": "code",
   "execution_count": null,
   "metadata": {
    "collapsed": false
   },
   "outputs": [],
   "source": []
  },
  {
   "cell_type": "code",
   "execution_count": 495,
   "metadata": {
    "collapsed": false
   },
   "outputs": [
    {
     "name": "stdout",
     "output_type": "stream",
     "text": [
      "Round 25 with fitness of (15, ['~', 'a', 'z', \"'\", '~', ')', 'l', 'i', 'k', 'e', ' ', 'c', 'a', 't', 'n', 'i', 'x', '!', ':', ')'])\n",
      "Round 42 with fitness of (20, ['C', 'a', 't', \"'\", 's', ' ', 'l', 'i', 'k', 'e', ' ', 'c', 'a', 't', 'n', 'i', 'p', '!', ':', ')'])\n"
     ]
    }
   ],
   "source": [
    "populationSize = 1000\n",
    "populationSizeToKeep = 25\n",
    "population = [''.join(randomPerson()) for _ in range(populationSize)]\n",
    "populationFitness = ([fitness(population[x]) for x in range(populationSize)])\n",
    "populationFitness = ([fitness(population[x]) for x in range(populationSize)])\n",
    "populationFitness.sort()\n",
    "population = populationFitness[-populationSizeToKeep:]\n",
    "k = 0\n",
    "# now we start mutating until we get the solution\n",
    "while population[populationSizeToKeep-1][0] < fitness(targetString)[0]:\n",
    "    parents = [population[x][1] for x in xrange(len(population))]\n",
    "    population = [mutate(parents[random.randrange(0,len(parents))]) for _ in range(populationSize)] + parents\n",
    "    populationFitness = ([fitness(population[x-1]) for x in xrange(len(population))])\n",
    "    population += (mate(parents[random.randrange(0,len(parents))], parents[random.randrange(0,len(parents))]) \n",
    "                   for x in xrange(10))\n",
    "    populationFitness.sort()\n",
    "    population = populationFitness[-populationSizeToKeep:]\n",
    "    k += 1\n",
    "    if k %25 == 0:\n",
    "        print \"Round %s with fitness of %s\" % (str(k), str(population[populationSizeToKeep-1]))\n",
    "\n",
    "print \"Round %s with fitness of %s\" % (str(k), str(population[populationSizeToKeep-1]))"
   ]
  },
  {
   "cell_type": "code",
   "execution_count": 399,
   "metadata": {
    "collapsed": false
   },
   "outputs": [
    {
     "name": "stdout",
     "output_type": "stream",
     "text": [
      "1\n",
      "(3, \"u.n(y'i}Ds-em.\\\\KBH?s$i#NJ<-M\")\n",
      "Round 1 with fitness of (3, \"u.n(y'i}Ds-em.\\\\KBH?s$i#NJ<-M\")\n"
     ]
    }
   ],
   "source": [
    "print str(k)\n",
    "print str(population[3])\n",
    "print \"Round %s with fitness of %s\" % (str(k), str(population[3]))"
   ]
  },
  {
   "cell_type": "code",
   "execution_count": 326,
   "metadata": {
    "collapsed": false
   },
   "outputs": [
    {
     "data": {
      "text/plain": [
       "1"
      ]
     },
     "execution_count": 326,
     "metadata": {},
     "output_type": "execute_result"
    }
   ],
   "source": [
    "min((len(population[x][1])) for x in xrange(len(population)))"
   ]
  },
  {
   "cell_type": "code",
   "execution_count": 467,
   "metadata": {
    "collapsed": false
   },
   "outputs": [
    {
     "data": {
      "text/plain": [
       "['a', 's', 'E', 'f', 'a', 's']"
      ]
     },
     "execution_count": 467,
     "metadata": {},
     "output_type": "execute_result"
    }
   ],
   "source": [
    "mutate('asdfas')"
   ]
  },
  {
   "cell_type": "code",
   "execution_count": 243,
   "metadata": {
    "collapsed": false
   },
   "outputs": [
    {
     "data": {
      "text/plain": [
       "(1, 'A#|=y%]VF)AhnK%&];tKa[t%eT.)')"
      ]
     },
     "execution_count": 243,
     "metadata": {},
     "output_type": "execute_result"
    }
   ],
   "source": [
    "p1, p2 = randomPerson(), randomPerson()\n",
    "children = mate(p1, p2)\n",
    "children"
   ]
  },
  {
   "cell_type": "code",
   "execution_count": 241,
   "metadata": {
    "collapsed": false
   },
   "outputs": [
    {
     "name": "stdout",
     "output_type": "stream",
     "text": [
      "set([])\n"
     ]
    }
   ],
   "source": []
  },
  {
   "cell_type": "code",
   "execution_count": 127,
   "metadata": {
    "collapsed": false
   },
   "outputs": [
    {
     "data": {
      "text/plain": [
       "(1, 'D\"%+k=^j@a@:j)o(>zO=c]+GS?sU')"
      ]
     },
     "execution_count": 127,
     "metadata": {},
     "output_type": "execute_result"
    }
   ],
   "source": [
    "fitVal = [(fitness(children[x]), children[x]) for x in xrange(len(children))]\n",
    "fitVal.sort()\n",
    "fitVal[-1]"
   ]
  },
  {
   "cell_type": "code",
   "execution_count": 91,
   "metadata": {
    "collapsed": false
   },
   "outputs": [
    {
     "name": "stdout",
     "output_type": "stream",
     "text": [
      "xrange(28)\n",
      "xrange(28)\n",
      "xrange(28)\n"
     ]
    }
   ],
   "source": [
    "print xrange(len(targetString))\n",
    "print xrange(len(p1))\n",
    "print xrange(len(p2))\n",
    "c = []\n",
    "c[0]"
   ]
  },
  {
   "cell_type": "code",
   "execution_count": 491,
   "metadata": {
    "collapsed": false
   },
   "outputs": [
    {
     "data": {
      "text/plain": [
       "'abcdefghijklmnopqrstuvwxyzABCDEFGHIJKLMNOPQRSTUVWXYZ !\"#$%&\\'()*+,-./:;<=>?@[\\\\]^_`{|}~'"
      ]
     },
     "execution_count": 491,
     "metadata": {},
     "output_type": "execute_result"
    }
   ],
   "source": [
    "possibleCharacters"
   ]
  }
 ],
 "metadata": {
  "kernelspec": {
   "display_name": "Python 2",
   "language": "python",
   "name": "python2"
  },
  "language_info": {
   "codemirror_mode": {
    "name": "ipython",
    "version": 2
   },
   "file_extension": ".py",
   "mimetype": "text/x-python",
   "name": "python",
   "nbconvert_exporter": "python",
   "pygments_lexer": "ipython2",
   "version": "2.7.10"
  }
 },
 "nbformat": 4,
 "nbformat_minor": 0
}
