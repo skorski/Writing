{
 "cells": [
  {
   "cell_type": "markdown",
   "metadata": {},
   "source": [
    "# This shows some basic graphing functionality in iPython Notebook\n",
    "\n",
    "Dan Skorski - June 2015\n",
    "\n",
    "Areas of interst:\n",
    "1. Creating basic classes to handle nodes and edges\n",
    "2. Using networkx and matplotlib to plot a basic graph\n",
    "3. Using d3 to render a graph within an iPython Notebook"
   ]
  },
  {
   "cell_type": "code",
   "execution_count": 1,
   "metadata": {
    "collapsed": true
   },
   "outputs": [],
   "source": [
    "# http://interactivepython.org/LpOMZ/courselib/static/pythonds/Graphs/graphintro.html\n",
    "\n",
    "# Create the vertex class\n",
    "\n",
    "class Vertex:\n",
    "    def __init__(self, key):\n",
    "        self.id = key\n",
    "        self.connectedTo = {}\n",
    "    \n",
    "    def addNeighbor(self, neighbor, weight=0):\n",
    "        self.connectedTo[neighbor] = weight\n",
    "        \n",
    "    def __str__(self):\n",
    "        return str(self.id) + ' is connected to ' + str([x for x in self.connectedTo])\n",
    "    \n",
    "    def getConnections(self):\n",
    "        return self.connectedTo.keys()\n",
    "    \n",
    "    def getId(self):\n",
    "        return self.id\n",
    "    \n",
    "    def getWeight(self, neighbor):\n",
    "        return self.connectedTo[neighbor]"
   ]
  },
  {
   "cell_type": "code",
   "execution_count": 2,
   "metadata": {
    "collapsed": true
   },
   "outputs": [],
   "source": [
    "class Graph:\n",
    "    def __init__(self):\n",
    "        self.vertList = {}\n",
    "        self.numVerticies = 0\n",
    "        \n",
    "    def addVertex(self,key):\n",
    "        self.numVerticies = self.numVerticies + 1\n",
    "        newVertex = Vertex(key)\n",
    "        self.vertList[key] = newVertex\n",
    "        return newVertex\n",
    "        \n",
    "    def getVertex(self,n):\n",
    "        if n in self.vertList:\n",
    "            return self.vertList[n]\n",
    "        else:\n",
    "            return None\n",
    "        \n",
    "    def __contains__(self,n):\n",
    "        return self.vertList[n]\n",
    "\n",
    "    def addEdge(self,f,t,cost=0):\n",
    "        if f not in self.vertList:\n",
    "            self.addVertex(f)\n",
    "        if t not in self.vertList:\n",
    "            self.addVertex(t)\n",
    "        self.vertList[f].addNeighbor(t,cost)\n",
    "\n",
    "    def getVertices(self):\n",
    "        return self.vertList.keys()\n",
    "            \n",
    "    def __iter__(self):\n",
    "        return iter(self.vertList.values())\n"
   ]
  },
  {
   "cell_type": "code",
   "execution_count": 3,
   "metadata": {
    "collapsed": true
   },
   "outputs": [],
   "source": [
    "g = Graph()"
   ]
  },
  {
   "cell_type": "code",
   "execution_count": 4,
   "metadata": {
    "collapsed": false
   },
   "outputs": [],
   "source": [
    "for i in range(6):\n",
    "    g.addVertex(i)"
   ]
  },
  {
   "cell_type": "code",
   "execution_count": 5,
   "metadata": {
    "collapsed": false
   },
   "outputs": [
    {
     "data": {
      "text/plain": [
       "{0: <__main__.Vertex instance at 0x103e95758>,\n",
       " 1: <__main__.Vertex instance at 0x1042bbdd0>,\n",
       " 2: <__main__.Vertex instance at 0x1042bbf80>,\n",
       " 3: <__main__.Vertex instance at 0x1042bbc68>,\n",
       " 4: <__main__.Vertex instance at 0x1042c3320>,\n",
       " 5: <__main__.Vertex instance at 0x1042c32d8>}"
      ]
     },
     "execution_count": 5,
     "metadata": {},
     "output_type": "execute_result"
    }
   ],
   "source": [
    "g.vertList"
   ]
  },
  {
   "cell_type": "code",
   "execution_count": 6,
   "metadata": {
    "collapsed": false
   },
   "outputs": [],
   "source": [
    "import random\n",
    "for i in range(8):\n",
    "    g.addEdge(random.randint(1,6),random.randint(1,6),random.randint(1,100))"
   ]
  },
  {
   "cell_type": "code",
   "execution_count": 7,
   "metadata": {
    "collapsed": false
   },
   "outputs": [
    {
     "name": "stdout",
     "output_type": "stream",
     "text": [
      "( 1 , 4 )\n",
      "( 2 , 1 )\n",
      "( 3 , 2 )\n",
      "( 3 , 3 )\n",
      "( 4 , 4 )\n",
      "( 5 , 5 )\n",
      "( 6 , 3 )\n",
      "( 6 , 6 )\n"
     ]
    }
   ],
   "source": [
    "for v in g:\n",
    "    for w in v.getConnections():\n",
    "        print(\"( %s , %s )\" % (v.getId(), w))"
   ]
  },
  {
   "cell_type": "code",
   "execution_count": 8,
   "metadata": {
    "collapsed": false
   },
   "outputs": [
    {
     "data": {
      "text/plain": [
       "[3, 6]"
      ]
     },
     "execution_count": 8,
     "metadata": {},
     "output_type": "execute_result"
    }
   ],
   "source": [
    "v.getConnections()"
   ]
  },
  {
   "cell_type": "code",
   "execution_count": 9,
   "metadata": {
    "collapsed": false
   },
   "outputs": [
    {
     "name": "stdout",
     "output_type": "stream",
     "text": [
      "6 is connected to [3, 6]\n"
     ]
    }
   ],
   "source": [
    "print v\n"
   ]
  },
  {
   "cell_type": "code",
   "execution_count": 10,
   "metadata": {
    "collapsed": false
   },
   "outputs": [
    {
     "name": "stdout",
     "output_type": "stream",
     "text": [
      "{3: 97, 6: 21}\n"
     ]
    }
   ],
   "source": [
    "print v.connectedTo\n"
   ]
  },
  {
   "cell_type": "code",
   "execution_count": 2,
   "metadata": {
    "collapsed": false
   },
   "outputs": [],
   "source": [
    "import networkx as nx\n",
    "import matplotlib.pyplot as plt\n",
    "\n",
    "def draw_graph(graph):\n",
    "    \n",
    "    nodes = set([n1 for n1, n2 in graph] + [n2 for n1, n2 in graph])\n",
    "    \n",
    "    # create networkx graph\n",
    "    G=nx.Graph()\n",
    "\n",
    "    # add nodes\n",
    "    for node in nodes:\n",
    "        G.add_node(node)\n",
    "\n",
    "    # add edges\n",
    "    for edge in graph:\n",
    "        G.add_edge(edge[0], edge[1])\n",
    "\n",
    "    # draw graph\n",
    "    pos = nx.shell_layout(G)\n",
    "    nx.draw(G, pos)\n",
    "\n",
    "    # show graph\n",
    "    plt.show()\n"
   ]
  },
  {
   "cell_type": "code",
   "execution_count": 8,
   "metadata": {
    "collapsed": true
   },
   "outputs": [],
   "source": [
    "# draw example\n",
    "testGraph = [(20, 21),(21, 22),(22, 23), (23, 24),(24, 25), (25, 20)]\n"
   ]
  },
  {
   "cell_type": "code",
   "execution_count": 9,
   "metadata": {
    "collapsed": false
   },
   "outputs": [
    {
     "data": {
      "text/plain": [
       "[(20, 21), (21, 22), (22, 23), (23, 24), (24, 25), (25, 20)]"
      ]
     },
     "execution_count": 9,
     "metadata": {},
     "output_type": "execute_result"
    }
   ],
   "source": [
    "testGraph"
   ]
  },
  {
   "cell_type": "code",
   "execution_count": 11,
   "metadata": {
    "collapsed": false
   },
   "outputs": [
    {
     "data": {
      "image/png": "[encoded data removed]",
      "text/plain": [
       "<matplotlib.figure.Figure at 0x103ea3850>"
      ]
     },
     "metadata": {},
     "output_type": "display_data"
    }
   ],
   "source": [
    "draw_graph(testGraph)"
   ]
  },
  {
   "cell_type": "code",
   "execution_count": 23,
   "metadata": {
    "collapsed": false
   },
   "outputs": [
    {
     "data": {
      "image/png": "[encoded data removed]",
      "text/plain": [
       "<matplotlib.figure.Figure at 0x103ea3450>"
      ]
     },
     "metadata": {},
     "output_type": "display_data"
    }
   ],
   "source": [
    "# Need the inline notation to tell iPython notebook to display the graph\n",
    "%matplotlib inline\n",
    "g = nx.karate_club_graph()\n",
    "plt.figure(figsize=(6,4));\n",
    "nx.draw(g)"
   ]
  },
  {
   "cell_type": "code",
   "execution_count": 18,
   "metadata": {
    "collapsed": true
   },
   "outputs": [],
   "source": [
    "import json\n",
    "from networkx.readwrite import json_graph\n",
    "data = json_graph.node_link_data(g)\n",
    "with open('graph.json', 'w') as f:\n",
    "    json.dump(data, f, indent=4)"
   ]
  },
  {
   "cell_type": "code",
   "execution_count": 19,
   "metadata": {
    "collapsed": true
   },
   "outputs": [
    {
     "data": {
      "text/plain": [
       "{'directed': False,\n",
       " 'graph': [('name', \"Zachary's Karate Club\")],\n",
       " 'links': [{'source': 0, 'target': 1},\n",
       "  {'source': 0, 'target': 2},\n",
       "  {'source': 0, 'target': 3},\n",
       "  {'source': 0, 'target': 4},\n",
       "  {'source': 0, 'target': 5},\n",
       "  {'source': 0, 'target': 6},\n",
       "  {'source': 0, 'target': 7},\n",
       "  {'source': 0, 'target': 8},\n",
       "  {'source': 0, 'target': 10},\n",
       "  {'source': 0, 'target': 11},\n",
       "  {'source': 0, 'target': 12},\n",
       "  {'source': 0, 'target': 13},\n",
       "  {'source': 0, 'target': 17},\n",
       "  {'source': 0, 'target': 19},\n",
       "  {'source': 0, 'target': 21},\n",
       "  {'source': 0, 'target': 31},\n",
       "  {'source': 1, 'target': 2},\n",
       "  {'source': 1, 'target': 3},\n",
       "  {'source': 1, 'target': 7},\n",
       "  {'source': 1, 'target': 13},\n",
       "  {'source': 1, 'target': 17},\n",
       "  {'source': 1, 'target': 19},\n",
       "  {'source': 1, 'target': 21},\n",
       "  {'source': 1, 'target': 30},\n",
       "  {'source': 2, 'target': 3},\n",
       "  {'source': 2, 'target': 32},\n",
       "  {'source': 2, 'target': 7},\n",
       "  {'source': 2, 'target': 8},\n",
       "  {'source': 2, 'target': 9},\n",
       "  {'source': 2, 'target': 13},\n",
       "  {'source': 2, 'target': 27},\n",
       "  {'source': 2, 'target': 28},\n",
       "  {'source': 3, 'target': 7},\n",
       "  {'source': 3, 'target': 12},\n",
       "  {'source': 3, 'target': 13},\n",
       "  {'source': 4, 'target': 10},\n",
       "  {'source': 4, 'target': 6},\n",
       "  {'source': 5, 'target': 16},\n",
       "  {'source': 5, 'target': 10},\n",
       "  {'source': 5, 'target': 6},\n",
       "  {'source': 6, 'target': 16},\n",
       "  {'source': 8, 'target': 32},\n",
       "  {'source': 8, 'target': 30},\n",
       "  {'source': 8, 'target': 33},\n",
       "  {'source': 9, 'target': 33},\n",
       "  {'source': 13, 'target': 33},\n",
       "  {'source': 14, 'target': 32},\n",
       "  {'source': 14, 'target': 33},\n",
       "  {'source': 15, 'target': 32},\n",
       "  {'source': 15, 'target': 33},\n",
       "  {'source': 18, 'target': 32},\n",
       "  {'source': 18, 'target': 33},\n",
       "  {'source': 19, 'target': 33},\n",
       "  {'source': 20, 'target': 32},\n",
       "  {'source': 20, 'target': 33},\n",
       "  {'source': 22, 'target': 32},\n",
       "  {'source': 22, 'target': 33},\n",
       "  {'source': 23, 'target': 32},\n",
       "  {'source': 23, 'target': 25},\n",
       "  {'source': 23, 'target': 27},\n",
       "  {'source': 23, 'target': 29},\n",
       "  {'source': 23, 'target': 33},\n",
       "  {'source': 24, 'target': 25},\n",
       "  {'source': 24, 'target': 27},\n",
       "  {'source': 24, 'target': 31},\n",
       "  {'source': 25, 'target': 31},\n",
       "  {'source': 26, 'target': 33},\n",
       "  {'source': 26, 'target': 29},\n",
       "  {'source': 27, 'target': 33},\n",
       "  {'source': 28, 'target': 33},\n",
       "  {'source': 28, 'target': 31},\n",
       "  {'source': 29, 'target': 32},\n",
       "  {'source': 29, 'target': 33},\n",
       "  {'source': 30, 'target': 33},\n",
       "  {'source': 30, 'target': 32},\n",
       "  {'source': 31, 'target': 33},\n",
       "  {'source': 31, 'target': 32},\n",
       "  {'source': 32, 'target': 33}],\n",
       " 'multigraph': False,\n",
       " 'nodes': [{'club': 'Mr. Hi', 'id': 0},\n",
       "  {'club': 'Mr. Hi', 'id': 1},\n",
       "  {'club': 'Mr. Hi', 'id': 2},\n",
       "  {'club': 'Mr. Hi', 'id': 3},\n",
       "  {'club': 'Mr. Hi', 'id': 4},\n",
       "  {'club': 'Mr. Hi', 'id': 5},\n",
       "  {'club': 'Mr. Hi', 'id': 6},\n",
       "  {'club': 'Mr. Hi', 'id': 7},\n",
       "  {'club': 'Mr. Hi', 'id': 8},\n",
       "  {'club': 'Officer', 'id': 9},\n",
       "  {'club': 'Mr. Hi', 'id': 10},\n",
       "  {'club': 'Mr. Hi', 'id': 11},\n",
       "  {'club': 'Mr. Hi', 'id': 12},\n",
       "  {'club': 'Mr. Hi', 'id': 13},\n",
       "  {'club': 'Officer', 'id': 14},\n",
       "  {'club': 'Officer', 'id': 15},\n",
       "  {'club': 'Mr. Hi', 'id': 16},\n",
       "  {'club': 'Mr. Hi', 'id': 17},\n",
       "  {'club': 'Officer', 'id': 18},\n",
       "  {'club': 'Mr. Hi', 'id': 19},\n",
       "  {'club': 'Officer', 'id': 20},\n",
       "  {'club': 'Mr. Hi', 'id': 21},\n",
       "  {'club': 'Officer', 'id': 22},\n",
       "  {'club': 'Officer', 'id': 23},\n",
       "  {'club': 'Officer', 'id': 24},\n",
       "  {'club': 'Officer', 'id': 25},\n",
       "  {'club': 'Officer', 'id': 26},\n",
       "  {'club': 'Officer', 'id': 27},\n",
       "  {'club': 'Officer', 'id': 28},\n",
       "  {'club': 'Officer', 'id': 29},\n",
       "  {'club': 'Officer', 'id': 30},\n",
       "  {'club': 'Officer', 'id': 31},\n",
       "  {'club': 'Officer', 'id': 32},\n",
       "  {'club': 'Officer', 'id': 33}]}"
      ]
     },
     "execution_count": 19,
     "metadata": {},
     "output_type": "execute_result"
    }
   ],
   "source": [
    "head(data)"
   ]
  },
  {
   "cell_type": "code",
   "execution_count": 24,
   "metadata": {
    "collapsed": false
   },
   "outputs": [
    {
     "data": {
      "text/html": [
       "<div id=\"d3-example\"></div>\n",
       "<style>\n",
       ".node {stroke: #fff; stroke-width: 1.5px;}\n",
       ".link {stroke: #999; stroke-opacity: .6;}\n",
       "</style>"
      ],
      "text/plain": [
       "<IPython.core.display.HTML object>"
      ]
     },
     "metadata": {},
     "output_type": "display_data"
    }
   ],
   "source": [
    "# for the d3 portion, we create the div and then fill it in later.\n",
    "# source: http://nbviewer.ipython.org/github/ipython-books/cookbook-code/blob/v2.0/notebooks/chapter06_viz/04_d3.ipynb \n",
    "\n",
    "%%html\n",
    "<div id=\"d3-example\"></div>\n",
    "<style>\n",
    ".node {stroke: #fff; stroke-width: 1.5px;}\n",
    ".link {stroke: #999; stroke-opacity: .6;}\n",
    "</style>"
   ]
  },
  {
   "cell_type": "code",
   "execution_count": 25,
   "metadata": {
    "collapsed": false
   },
   "outputs": [
    {
     "data": {
      "application/javascript": [
       "// We load the d3.js library from the Web.\n",
       "require.config({paths: {d3: \"http://d3js.org/d3.v3.min\"}});\n",
       "require([\"d3\"], function(d3) {\n",
       "    // The code in this block is executed when the \n",
       "    // d3.js library has been loaded.\n",
       "    \n",
       "    // First, we specify the size of the canvas containing\n",
       "    // the visualization (size of the <div> element).\n",
       "    var width = 800,\n",
       "        height = 300;\n",
       "\n",
       "    // We create a color scale.\n",
       "    var color = d3.scale.category10();\n",
       "\n",
       "    // We create a force-directed dynamic graph layout.\n",
       "    var force = d3.layout.force()\n",
       "        .charge(-120)\n",
       "        .linkDistance(30)\n",
       "        .size([width, height]);\n",
       "\n",
       "    // In the <div> element, we create a <svg> graphic\n",
       "    // that will contain our interactive visualization.\n",
       "    var svg = d3.select(\"#d3-example\").select(\"svg\")\n",
       "    if (svg.empty()) {\n",
       "        svg = d3.select(\"#d3-example\").append(\"svg\")\n",
       "                    .attr(\"width\", width)\n",
       "                    .attr(\"height\", height);\n",
       "    }\n",
       "        \n",
       "    // We load the JSON file.\n",
       "    d3.json(\"graph.json\", function(error, graph) {\n",
       "        // In this block, the file has been loaded\n",
       "        // and the 'graph' object contains our graph.\n",
       "        \n",
       "        // We load the nodes and links in the force-directed\n",
       "        // graph.\n",
       "        force.nodes(graph.nodes)\n",
       "            .links(graph.links)\n",
       "            .start();\n",
       "\n",
       "        // We create a <line> SVG element for each link\n",
       "        // in the graph.\n",
       "        var link = svg.selectAll(\".link\")\n",
       "            .data(graph.links)\n",
       "            .enter().append(\"line\")\n",
       "            .attr(\"class\", \"link\");\n",
       "\n",
       "        // We create a <circle> SVG element for each node\n",
       "        // in the graph, and we specify a few attributes.\n",
       "        var node = svg.selectAll(\".node\")\n",
       "            .data(graph.nodes)\n",
       "            .enter().append(\"circle\")\n",
       "            .attr(\"class\", \"node\")\n",
       "            .attr(\"r\", 5)  // radius\n",
       "            .style(\"fill\", function(d) {\n",
       "                // The node color depends on the club.\n",
       "                return color(d.club); \n",
       "            })\n",
       "            .call(force.drag);\n",
       "\n",
       "        // The name of each node is the node number.\n",
       "        node.append(\"title\")\n",
       "            .text(function(d) { return d.id; });\n",
       "\n",
       "        // We bind the positions of the SVG elements\n",
       "        // to the positions of the dynamic force-directed graph,\n",
       "        // at each time step.\n",
       "        force.on(\"tick\", function() {\n",
       "            link.attr(\"x1\", function(d) { return d.source.x; })\n",
       "                .attr(\"y1\", function(d) { return d.source.y; })\n",
       "                .attr(\"x2\", function(d) { return d.target.x; })\n",
       "                .attr(\"y2\", function(d) { return d.target.y; });\n",
       "\n",
       "            node.attr(\"cx\", function(d) { return d.x; })\n",
       "                .attr(\"cy\", function(d) { return d.y; });\n",
       "        });\n",
       "    });\n",
       "});"
      ],
      "text/plain": [
       "<IPython.core.display.Javascript object>"
      ]
     },
     "metadata": {},
     "output_type": "display_data"
    }
   ],
   "source": [
    "# code that will fill in the div that is shown above\n",
    "\n",
    "%%javascript\n",
    "// We load the d3.js library from the Web.\n",
    "require.config({paths: {d3: \"http://d3js.org/d3.v3.min\"}});\n",
    "require([\"d3\"], function(d3) {\n",
    "    // The code in this block is executed when the \n",
    "    // d3.js library has been loaded.\n",
    "    \n",
    "    // First, we specify the size of the canvas containing\n",
    "    // the visualization (size of the <div> element).\n",
    "    var width = 800,\n",
    "        height = 300;\n",
    "\n",
    "    // We create a color scale.\n",
    "    var color = d3.scale.category10();\n",
    "\n",
    "    // We create a force-directed dynamic graph layout.\n",
    "    var force = d3.layout.force()\n",
    "        .charge(-120)\n",
    "        .linkDistance(30)\n",
    "        .size([width, height]);\n",
    "\n",
    "    // In the <div> element, we create a <svg> graphic\n",
    "    // that will contain our interactive visualization.\n",
    "    var svg = d3.select(\"#d3-example\").select(\"svg\")\n",
    "    if (svg.empty()) {\n",
    "        svg = d3.select(\"#d3-example\").append(\"svg\")\n",
    "                    .attr(\"width\", width)\n",
    "                    .attr(\"height\", height);\n",
    "    }\n",
    "        \n",
    "    // We load the JSON file.\n",
    "    d3.json(\"graph.json\", function(error, graph) {\n",
    "        // In this block, the file has been loaded\n",
    "        // and the 'graph' object contains our graph.\n",
    "        \n",
    "        // We load the nodes and links in the force-directed\n",
    "        // graph.\n",
    "        force.nodes(graph.nodes)\n",
    "            .links(graph.links)\n",
    "            .start();\n",
    "\n",
    "        // We create a <line> SVG element for each link\n",
    "        // in the graph.\n",
    "        var link = svg.selectAll(\".link\")\n",
    "            .data(graph.links)\n",
    "            .enter().append(\"line\")\n",
    "            .attr(\"class\", \"link\");\n",
    "\n",
    "        // We create a <circle> SVG element for each node\n",
    "        // in the graph, and we specify a few attributes.\n",
    "        var node = svg.selectAll(\".node\")\n",
    "            .data(graph.nodes)\n",
    "            .enter().append(\"circle\")\n",
    "            .attr(\"class\", \"node\")\n",
    "            .attr(\"r\", 5)  // radius\n",
    "            .style(\"fill\", function(d) {\n",
    "                // The node color depends on the club.\n",
    "                return color(d.club); \n",
    "            })\n",
    "            .call(force.drag);\n",
    "\n",
    "        // The name of each node is the node number.\n",
    "        node.append(\"title\")\n",
    "            .text(function(d) { return d.id; });\n",
    "\n",
    "        // We bind the positions of the SVG elements\n",
    "        // to the positions of the dynamic force-directed graph,\n",
    "        // at each time step.\n",
    "        force.on(\"tick\", function() {\n",
    "            link.attr(\"x1\", function(d) { return d.source.x; })\n",
    "                .attr(\"y1\", function(d) { return d.source.y; })\n",
    "                .attr(\"x2\", function(d) { return d.target.x; })\n",
    "                .attr(\"y2\", function(d) { return d.target.y; });\n",
    "\n",
    "            node.attr(\"cx\", function(d) { return d.x; })\n",
    "                .attr(\"cy\", function(d) { return d.y; });\n",
    "        });\n",
    "    });\n",
    "});\n"
   ]
  }
 ],
 "metadata": {
  "kernelspec": {
   "display_name": "Python 2",
   "language": "python",
   "name": "python2"
  },
  "language_info": {
   "codemirror_mode": {
    "name": "ipython",
    "version": 2
   },
   "file_extension": ".py",
   "mimetype": "text/x-python",
   "name": "python",
   "nbconvert_exporter": "python",
   "pygments_lexer": "ipython2",
   "version": "2.7.10"
  }
 },
 "nbformat": 4,
 "nbformat_minor": 0
}
